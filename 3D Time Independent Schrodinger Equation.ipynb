{
 "cells": [
  {
   "cell_type": "code",
   "execution_count": 26,
   "id": "ad7e30f7",
   "metadata": {},
   "outputs": [
    {
     "name": "stdout",
     "output_type": "stream",
     "text": [
      "NVIDIA GeForce RTX 3080 Ti\n"
     ]
    }
   ],
   "source": [
    "import torch\n",
    "import numpy as np\n",
    "from scipy import constants\n",
    "from scipy import sparse\n",
    "\n",
    "device = \"cuda:0\" if torch.cuda.is_available() else \"cpu\"\n",
    "print(torch.cuda.get_device_name())"
   ]
  },
  {
   "cell_type": "markdown",
   "id": "8ad9802b",
   "metadata": {},
   "source": [
    "<h3>Computation Domain"
   ]
  },
  {
   "cell_type": "code",
   "execution_count": 32,
   "id": "09580fe1",
   "metadata": {},
   "outputs": [],
   "source": [
    "N = 100\n",
    "L = 8\n",
    "X,Y,Z = np.meshgrid(np.linspace(-L/2,L/2,N,dtype=float),\n",
    "                       np.linspace(-L/2,L/2,N,dtype=float),\n",
    "                       np.linspace(-L/2,L/2,N,dtype=float))"
   ]
  },
  {
   "cell_type": "markdown",
   "id": "80f6eb36",
   "metadata": {},
   "source": [
    "Three dimensional time independent schrodinger equation:\n",
    "\n",
    "$$\n",
    "\\frac{-\\hbar^{2}}{2m}\\nabla^{2}\\Psi+U(x,y,z)\\Psi(x,y,z)=E\\Psi(x,y,z)\n",
    "$$\n",
    "$$\n",
    "\\nabla^{2}\\Psi = \\frac{\\partial^{2}\\Psi}{\\partial x^{2}}+\\frac{\\partial^{2}\\Psi}{\\partial y^{2}}+\\frac{\\partial^{2}\\Psi}{\\partial z^{2}}\n",
    "$$"
   ]
  },
  {
   "cell_type": "code",
   "execution_count": 39,
   "id": "9a0ffd78",
   "metadata": {},
   "outputs": [],
   "source": [
    "diag = np.ones(N)\n",
    "diagm = -2 * diag\n",
    "diags = np.array([diag, diagm, diag])\n",
    "\n",
    "offsets = np.array([1, 0, -1])\n",
    "unique_offsets = np.unique(offsets)\n",
    "\n",
    "D = sparse.spdiags(diags, unique_offsets, N, N)\n",
    "\n",
    "I = np.identity(N)\n",
    "\n",
    "T = -1/2 * (np.kron())"
   ]
  },
  {
   "cell_type": "code",
   "execution_count": null,
   "id": "99661b72",
   "metadata": {},
   "outputs": [],
   "source": []
  }
 ],
 "metadata": {
  "kernelspec": {
   "display_name": "improved-fishstick",
   "language": "python",
   "name": "improved-fishstick"
  },
  "language_info": {
   "codemirror_mode": {
    "name": "ipython",
    "version": 3
   },
   "file_extension": ".py",
   "mimetype": "text/x-python",
   "name": "python",
   "nbconvert_exporter": "python",
   "pygments_lexer": "ipython3",
   "version": "3.10.9"
  }
 },
 "nbformat": 4,
 "nbformat_minor": 5
}
