{
 "cells": [
  {
   "cell_type": "code",
   "execution_count": 1,
   "metadata": {},
   "outputs": [
    {
     "name": "stdout",
     "output_type": "stream",
     "text": [
      "Number of collocation points: 950796\n",
      "Number of boundary points: 39600\n",
      "Number of initial points: 9604\n"
     ]
    }
   ],
   "source": [
    "import pandas as pd\n",
    "\n",
    "# Load data from CSV file into a pandas dataframe\n",
    "df = pd.read_csv('2DHeatData.csv', header=None, names=['x', 'y', 't', 'u_t'], low_memory=False)\n",
    "\n",
    "df = df.drop(0)\n",
    "\n",
    "# Convert 'x' and 'y' columns to float\n",
    "df['x'] = df['x'].astype(float)\n",
    "df['y'] = df['y'].astype(float)\n",
    "df['t'] = df['t'].astype(float)\n",
    "\n",
    "# Split data into three datasets based on x, y, and t values\n",
    "collocation_data = df[(df['x'] > 0.0) & (df['x'] < 1.0) & (df['y'] > 0.0) & (df['y'] < 1.0) & (df['t'] > 0.0)]\n",
    "boundary_data = df[((df['x'] == 0.0) | (df['x'] == 1.0) | (df['y'] == 0.0) | (df['y'] == 1.0))]\n",
    "initial_data = df[(df['t'] == 0.0) & ((df['x'] > 0.0) & (df['x'] < 1.0) & (df['y'] > 0.0) & (df['y'] < 1.0))]\n",
    "\n",
    "# Print the number of data points in each dataset\n",
    "print(f\"Number of collocation points: {len(collocation_data)}\")\n",
    "print(f\"Number of boundary points: {len(boundary_data)}\")\n",
    "print(f\"Number of initial points: {len(initial_data)}\")\n",
    "\n",
    "collocation_data.to_csv('HeatDataColloc.csv',index=False)\n",
    "boundary_data.to_csv('HeatDataBoundary.csv',index=False)\n",
    "initial_data.to_csv('HeatDataInitial.csv',index=False)"
   ]
  }
 ],
 "metadata": {
  "kernelspec": {
   "display_name": "improved-fishstick",
   "language": "python",
   "name": "improved-fishstick"
  },
  "language_info": {
   "codemirror_mode": {
    "name": "ipython",
    "version": 3
   },
   "file_extension": ".py",
   "mimetype": "text/x-python",
   "name": "python",
   "nbconvert_exporter": "python",
   "pygments_lexer": "ipython3",
   "version": "3.10.9"
  },
  "orig_nbformat": 4
 },
 "nbformat": 4,
 "nbformat_minor": 2
}
