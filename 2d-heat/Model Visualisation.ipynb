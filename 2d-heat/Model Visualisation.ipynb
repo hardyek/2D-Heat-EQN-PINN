{
 "cells": [
  {
   "cell_type": "code",
   "execution_count": 1,
   "id": "de72a983",
   "metadata": {},
   "outputs": [],
   "source": [
    "import torch\n",
    "import torch.nn as nn\n",
    "from torchviz import make_dot"
   ]
  },
  {
   "cell_type": "code",
   "execution_count": 2,
   "id": "e4a2f325",
   "metadata": {},
   "outputs": [],
   "source": [
    "class HeatPINN(nn.Module):\n",
    "    def __init__(self):\n",
    "        super(HeatPINN, self).__init__()\n",
    "\n",
    "        self.inpLayer = nn.Linear(3,50)\n",
    "        self.fcLayer = nn.Linear(50,50)\n",
    "        self.outLayer = nn.Linear(50,1)\n",
    "        self.activationFunc = nn.SiLU()\n",
    "\n",
    "    def forward(self, x):\n",
    "        \n",
    "        x = self.inpLayer(x)\n",
    "        x = self.activationFunc(x)\n",
    "\n",
    "        for _ in range(8):\n",
    "            x = self.fcLayer(x)\n",
    "            x = self.activationFunc(x)\n",
    "\n",
    "        x = self.outLayer(x)\n",
    "\n",
    "        return x\n",
    "    \n",
    "PINN = HeatPINN()"
   ]
  },
  {
   "cell_type": "code",
   "execution_count": 3,
   "id": "73be21ab",
   "metadata": {},
   "outputs": [],
   "source": [
    "X = torch.tensor([0.5,0.5,0]).to(torch.float32)\n",
    "y = PINN(X)"
   ]
  },
  {
   "cell_type": "code",
   "execution_count": 14,
   "id": "c667af8a",
   "metadata": {},
   "outputs": [
    {
     "data": {
      "text/plain": [
       "'simple.png'"
      ]
     },
     "execution_count": 14,
     "metadata": {},
     "output_type": "execute_result"
    }
   ],
   "source": [
    "make_dot(y.mean(), params=dict(PINN.named_parameters())).render(\"simple\", format=\"png\")"
   ]
  },
  {
   "cell_type": "code",
   "execution_count": 13,
   "id": "df3057b5",
   "metadata": {},
   "outputs": [
    {
     "data": {
      "text/plain": [
       "'attached.png'"
      ]
     },
     "execution_count": 13,
     "metadata": {},
     "output_type": "execute_result"
    }
   ],
   "source": [
    "make_dot(y.mean(), params=dict(PINN.named_parameters()), show_attrs=True, show_saved=True).render(\"detailed\", format=\"png\")"
   ]
  },
  {
   "cell_type": "code",
   "execution_count": 7,
   "id": "da2f47c1",
   "metadata": {},
   "outputs": [],
   "source": [
    "from torch.utils.tensorboard import SummaryWriter\n",
    "\n",
    "writer = SummaryWriter(\"torchlogs/\")\n",
    "writer.add_graph(PINN, X)\n",
    "writer.close()"
   ]
  },
  {
   "cell_type": "code",
   "execution_count": 10,
   "id": "43815409",
   "metadata": {},
   "outputs": [
    {
     "name": "stdout",
     "output_type": "stream",
     "text": [
      "^C\n"
     ]
    }
   ],
   "source": [
    "!tensorboard --logdir=torchlogs"
   ]
  }
 ],
 "metadata": {
  "kernelspec": {
   "display_name": "Python 3 (ipykernel)",
   "language": "python",
   "name": "python3"
  },
  "language_info": {
   "codemirror_mode": {
    "name": "ipython",
    "version": 3
   },
   "file_extension": ".py",
   "mimetype": "text/x-python",
   "name": "python",
   "nbconvert_exporter": "python",
   "pygments_lexer": "ipython3",
   "version": "3.10.9"
  }
 },
 "nbformat": 4,
 "nbformat_minor": 5
}
