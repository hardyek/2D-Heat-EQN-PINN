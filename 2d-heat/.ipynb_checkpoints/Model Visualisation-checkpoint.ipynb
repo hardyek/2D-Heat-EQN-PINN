{
 "cells": [
  {
   "cell_type": "code",
   "execution_count": 1,
   "id": "de72a983",
   "metadata": {},
   "outputs": [],
   "source": [
    "import torch\n",
    "import torch.nn as nn\n",
    "from torchviz import make_dot"
   ]
  },
  {
   "cell_type": "code",
   "execution_count": 2,
   "id": "e4a2f325",
   "metadata": {},
   "outputs": [],
   "source": [
    "class HeatPINN(nn.Module):\n",
    "    def __init__(self):\n",
    "        super(HeatPINN, self).__init__()\n",
    "\n",
    "        self.inpLayer = nn.Linear(3,50)\n",
    "        self.fcLayer = nn.Linear(50,50)\n",
    "        self.outLayer = nn.Linear(50,1)\n",
    "        self.activationFunc = nn.SiLU()\n",
    "\n",
    "    def forward(self, x):\n",
    "        \n",
    "        x = self.inpLayer(x)\n",
    "        x = self.activationFunc(x)\n",
    "\n",
    "        for _ in range(8):\n",
    "            x = self.fcLayer(x)\n",
    "            x = self.activationFunc(x)\n",
    "\n",
    "        x = self.outLayer(x)\n",
    "\n",
    "        return x\n",
    "    \n",
    "PINN = HeatPINN()"
   ]
  },
  {
   "cell_type": "code",
   "execution_count": 3,
   "id": "d3fd7abd",
   "metadata": {},
   "outputs": [],
   "source": [
    "X = torch.tensor([0.5,0.5,0]).to(torch.float32)\n",
    "y = PINN(X)"
   ]
  },
  {
   "cell_type": "code",
   "execution_count": 4,
   "id": "c667af8a",
   "metadata": {},
   "outputs": [
    {
     "ename": "NameError",
     "evalue": "name 'model' is not defined",
     "output_type": "error",
     "traceback": [
      "\u001b[1;31m---------------------------------------------------------------------------\u001b[0m",
      "\u001b[1;31mNameError\u001b[0m                                 Traceback (most recent call last)",
      "Cell \u001b[1;32mIn[4], line 1\u001b[0m\n\u001b[1;32m----> 1\u001b[0m make_dot(y\u001b[38;5;241m.\u001b[39mmean(), params\u001b[38;5;241m=\u001b[39m\u001b[38;5;28mdict\u001b[39m(\u001b[43mmodel\u001b[49m\u001b[38;5;241m.\u001b[39mnamed_parameters()))\n",
      "\u001b[1;31mNameError\u001b[0m: name 'model' is not defined"
     ]
    }
   ],
   "source": [
    "make_dot(y.mean(), params=dict(PINN.named_parameters()))"
   ]
  },
  {
   "cell_type": "code",
   "execution_count": null,
   "id": "866bee4e",
   "metadata": {},
   "outputs": [],
   "source": [
    "from torch.utils.tensorboard import SummaryWriter\n",
    "\n",
    "writer = SummaryWriter(\"torchlogs/\")\n",
    "model = PINN()\n",
    "writer.add_graph(model, X)\n",
    "writer.close()"
   ]
  },
  {
   "cell_type": "code",
   "execution_count": null,
   "id": "cb3f6161",
   "metadata": {},
   "outputs": [],
   "source": []
  }
 ],
 "metadata": {
  "kernelspec": {
   "display_name": "Python 3 (ipykernel)",
   "language": "python",
   "name": "python3"
  },
  "language_info": {
   "codemirror_mode": {
    "name": "ipython",
    "version": 3
   },
   "file_extension": ".py",
   "mimetype": "text/x-python",
   "name": "python",
   "nbconvert_exporter": "python",
   "pygments_lexer": "ipython3",
   "version": "3.10.9"
  }
 },
 "nbformat": 4,
 "nbformat_minor": 5
}
