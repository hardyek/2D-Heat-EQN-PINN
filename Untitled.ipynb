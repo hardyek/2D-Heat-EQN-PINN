{
 "cells": [
  {
   "cell_type": "markdown",
   "id": "4b52238b",
   "metadata": {},
   "source": [
    "Sure! Let's show that the expression $(1 - \\cos(x))(1 + \\sec(x))$ is equal to $\\sin(x)\\tan(x)$. Here's the step-by-step representation using math notation:\n",
    "\n",
    "Start with the given expression:\n",
    "$(1 - \\cos(x))(1 + \\sec(x))$\n",
    "\n",
    "Recall that the $\\sec(x)$ function is the reciprocal of the $\\cos(x)$ function:\n",
    "$\\sec(x) = \\frac{1}{\\cos(x)}$\n",
    "\n",
    "So, we can rewrite the expression as:\n",
    "$(1 - \\cos(x))(1 + \\frac{1}{\\cos(x)})$\n",
    "\n",
    "Next, find a common denominator for the terms inside the parenthesis. The common denominator is $\\cos(x)$:\n",
    "$(1 - \\cos(x))(\\frac{\\cos(x) + 1}{\\cos(x)})$\n",
    "\n",
    "Now, multiply the expressions in the parentheses:\n",
    "$\\frac{(1 - \\cos(x))(\\cos(x) + 1)}{\\cos(x)}$\n",
    "\n",
    "Observe that the numerator is a difference of squares:\n",
    "$\\frac{(1 - \\cos(x))(1 + \\cos(x))}{\\cos(x)}$\n",
    "\n",
    "Recall the Pythagorean identity for $\\sin(x)$ and $\\cos(x)$:\n",
    "$\\sin^2(x) + \\cos^2(x) = 1$\n",
    "\n",
    "From this identity, rewrite $1 - \\cos^2(x)$ as $\\sin^2(x)$:\n",
    "$\\frac{\\sin^2(x)}{\\cos(x)}$\n",
    "\n",
    "Finally, rewrite $\\sin^2(x)$ as $\\sin(x)\\sin(x)$:\n",
    "$\\frac{\\sin(x)\\sin(x)}{\\cos(x)}$\n",
    "Recall that the $\\tan(x)$ function is the ratio of $\\sin(x)$ to $\\cos(x)$:\n",
    "$\\tan(x) = \\frac{\\sin(x)}{\\cos(x)}$\n",
    "\n",
    "So, we can rewrite the expression as:\n",
    "$\\sin(x)\\tan(x)$\n",
    "\n",
    "Therefore, $(1 - \\cos(x))(1 + \\sec(x)) = \\sin(x)\\tan(x)$."
   ]
  },
  {
   "cell_type": "markdown",
   "id": "cc92d27b",
   "metadata": {},
   "source": [
    "We already have the expression in this form:\n",
    "$\\frac{(1 - \\cos(x))(1 + \\cos(x))}{\\cos(x)}$\n",
    "Now, expand the numerator:\n",
    "$\\frac{1 - \\cos^2(x)}{\\cos(x)}$\n",
    "\n",
    "Recall the Pythagorean identity for $\\sin(x)$ and $\\cos(x)$:\n",
    "$\\sin^2(x) + \\cos^2(x) = 1$\n",
    "From this identity, we can rewrite $1 - \\cos^2(x)$ as $\\sin^2(x)$:\n",
    "$\\frac{\\sin^2(x)}{\\cos(x)}$\n",
    "\n",
    "Now, rewrite $\\sin^2(x)$ as $\\sin(x) \\cdot \\sin(x)$:\n",
    "$\\frac{\\sin(x) \\cdot \\sin(x)}{\\cos(x)}$\n",
    "\n",
    "Recall that the $\\tan(x)$ function is the ratio of $\\sin(x)$ to $\\cos(x)$:\n",
    "$\\tan(x) = \\frac{\\sin(x)}{\\cos(x)}$\n",
    "\n",
    "So, we can rewrite the expression as:\n",
    "$\\sin(x) \\cdot \\frac{\\sin(x)}{\\cos(x)}$\n",
    "\n",
    "Now, the expression is in the desired form:\n",
    "$\\sin(x)\\tan(x)$\n",
    "\n",
    "Therefore, $(1 - \\cos(x))(1 + \\sec(x)) = \\sin(x)\\tan(x)$."
   ]
  },
  {
   "cell_type": "code",
   "execution_count": null,
   "id": "82e5a9b3",
   "metadata": {},
   "outputs": [],
   "source": []
  }
 ],
 "metadata": {
  "kernelspec": {
   "display_name": "Python 3 (ipykernel)",
   "language": "python",
   "name": "python3"
  },
  "language_info": {
   "codemirror_mode": {
    "name": "ipython",
    "version": 3
   },
   "file_extension": ".py",
   "mimetype": "text/x-python",
   "name": "python",
   "nbconvert_exporter": "python",
   "pygments_lexer": "ipython3",
   "version": "3.10.9"
  }
 },
 "nbformat": 4,
 "nbformat_minor": 5
}
